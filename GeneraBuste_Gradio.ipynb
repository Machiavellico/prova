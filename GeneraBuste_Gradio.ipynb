{
  "nbformat": 4,
  "nbformat_minor": 0,
  "metadata": {
    "colab": {
      "provenance": [],
      "authorship_tag": "ABX9TyNoD2nG/AkDGKZ42b2hFFIn",
      "include_colab_link": true
    },
    "kernelspec": {
      "name": "python3",
      "display_name": "Python 3"
    },
    "language_info": {
      "name": "python"
    }
  },
  "cells": [
    {
      "cell_type": "markdown",
      "metadata": {
        "id": "view-in-github",
        "colab_type": "text"
      },
      "source": [
        "<a href=\"https://colab.research.google.com/github/Mic-Fundraiser/fundraiser-utility/blob/main/GeneraBuste_Gradio.ipynb\" target=\"_parent\"><img src=\"https://colab.research.google.com/assets/colab-badge.svg\" alt=\"Open In Colab\"/></a>"
      ]
    },
    {
      "cell_type": "code",
      "source": [
        "pip install gradio reportlab pandas requests"
      ],
      "metadata": {
        "id": "7oz9ZDYKoHsa"
      },
      "execution_count": null,
      "outputs": []
    },
    {
      "cell_type": "code",
      "execution_count": null,
      "metadata": {
        "id": "HpiucwSDoEQW"
      },
      "outputs": [],
      "source": [
        "import gradio as gr\n",
        "from reportlab.lib.pagesizes import letter\n",
        "from reportlab.pdfgen import canvas\n",
        "from reportlab.lib.units import cm\n",
        "import pandas as pd\n",
        "import io\n",
        "import os\n",
        "from zipfile import ZipFile\n",
        "import requests\n",
        "\n",
        "# Definizione delle dimensioni della pagina per un layout orizzontale\n",
        "custom_page_width = 22 * cm  # Larghezza\n",
        "custom_page_height = 11 * cm  # Altezza\n",
        "custom_page_size = (custom_page_width, custom_page_height)\n",
        "\n",
        "# Creazione della cartella temporanea per i PDF\n",
        "output_folder = \"pdf_outputs\"\n",
        "if not os.path.exists(output_folder):\n",
        "    os.makedirs(output_folder)\n",
        "\n",
        "# Funzione modificata per creare un PDF per ogni riga del dataframe\n",
        "def create_individual_pdf(row, logo_path, sender_address, output_folder):\n",
        "    output_pdf_path = f\"{output_folder}/{row['Cognome']}_{row['Nome']}.pdf\"\n",
        "    margin = 1 * cm\n",
        "    logo_size = 2 * cm  # Dimensione del logo\n",
        "    text_size = 10\n",
        "    sender_text_y = custom_page_height - margin - logo_size / 2  # Posizione del testo del mittente vicino al logo\n",
        "\n",
        "    c = canvas.Canvas(output_pdf_path, pagesize=custom_page_size)\n",
        "    c.setFont(\"Helvetica\", 12)\n",
        "\n",
        "    # Disegna il logo in alto a sinistra\n",
        "    c.drawImage(logo_path, margin, custom_page_height - margin - logo_size, width=logo_size, height=logo_size)\n",
        "\n",
        "    # Stampa l'indirizzo del mittente accanto al logo\n",
        "    for i, line in enumerate(sender_address.split('\\n')):\n",
        "        c.drawString(margin + logo_size + 5, sender_text_y - (i * 15), line)\n",
        "\n",
        "    # Posizione del nome e cognome del destinatario in basso a destra\n",
        "    recipient_name_x = custom_page_width - margin - 6 * cm  # Spazio per il testo del destinatario\n",
        "    recipient_name_y = margin + 2 * cm  # Posizione dal basso\n",
        "\n",
        "    # Stampa l'indirizzo del destinatario\n",
        "    c.drawString(recipient_name_x, recipient_name_y, f\"{row['Cognome']} {row['Nome']}\")\n",
        "    c.drawString(recipient_name_x, recipient_name_y - 15, row['Indirizzo'])\n",
        "    c.drawString(recipient_name_x, recipient_name_y - 30, f\"{row['CAP']} {row['Città']} ({row['Provincia']})\")\n",
        "\n",
        "    c.showPage()\n",
        "    c.save()\n",
        "\n",
        "# Funzione per comprimere i file in un archivio ZIP e scaricare\n",
        "def compress_files_to_zip(output_folder, zip_name):\n",
        "    with ZipFile(zip_name, 'w') as zipf:\n",
        "        for root, dirs, file_list in os.walk(output_folder):\n",
        "            for file in file_list:\n",
        "                zipf.write(os.path.join(root, file), arcname=file)\n",
        "    return zip_name\n",
        "\n",
        "# Funzione principale per Gradio\n",
        "def process_and_download_csv(uploaded_csv, logo_url, nome_azienda, via_e_numero, cap, città, sigla_provincia):\n",
        "    # Scaricamento e salvataggio del file del logo\n",
        "    response = requests.get(logo_url)\n",
        "    logo_path = f\"{output_folder}/logo.png\"\n",
        "    with open(logo_path, 'wb') as f:\n",
        "        f.write(response.content)\n",
        "\n",
        "    # Caricamento del file CSV\n",
        "    dataframe = pd.read_csv(uploaded_csv)\n",
        "\n",
        "    # Indirizzo del mittente con andata a capo\n",
        "    sender_address = f\"{nome_azienda}\\n{via_e_numero}\\n{cap} {città} ({sigla_provincia})\"\n",
        "\n",
        "    # Iterazione su ogni riga del dataframe per creare un PDF per ogni destinatario\n",
        "    for index, row in dataframe.iterrows():\n",
        "        create_individual_pdf(row, logo_path, sender_address, output_folder)\n",
        "\n",
        "    # Comprimere tutti i PDF in un file ZIP e restituirlo\n",
        "    zip_name = \"output_pdfs.zip\"\n",
        "    return compress_files_to_zip(output_folder, zip_name)\n",
        "\n",
        "# Definizione dell'interfaccia Gradio con tutti gli input richiesti.\n",
        "iface = gr.Interface(\n",
        "    fn=process_and_download_csv,\n",
        "    inputs=[\n",
        "        gr.File(label=\"Carica il file CSV con i dati degli indirizzi\"),\n",
        "        gr.Text(label=\"Inserisci l'URL del logo (opzionale)\"),\n",
        "        gr.Text(label=\"Nome Azienda/Associazione\"),\n",
        "        gr.Text(label=\"Via e numero civico\"),\n",
        "        gr.Text(label=\"CAP\"),\n",
        "        gr.Text(label=\"Città\"),\n",
        "        gr.Text(label=\"Sigla Provincia\")\n",
        "    ],\n",
        "    outputs=gr.File(label=\"Scarica lo zip con le buste da lettera\"),  # Modificato per dimostrazione, sostituisci con gr.File per il download.\n",
        "    title=\"Generatore di buste singole con logo, mittente e destinatario\",\n",
        "    description=\"Carica un file CSV con i dati degli indirizzi, inserisci l'URL del logo e dettaglia l'indirizzo del mittente per generare PDF delle buste da lettera e scaricare un ZIP contenente i PDF.\"\n",
        ")\n",
        "\n",
        "iface.launch(share=True, debug=True)\n"
      ]
    }
  ]
}