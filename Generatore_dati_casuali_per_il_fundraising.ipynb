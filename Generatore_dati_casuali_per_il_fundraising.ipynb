{
  "nbformat": 4,
  "nbformat_minor": 0,
  "metadata": {
    "colab": {
      "provenance": []
    },
    "kernelspec": {
      "name": "python3",
      "display_name": "Python 3"
    },
    "language_info": {
      "name": "python"
    }
  },
  "cells": [
    {
      "cell_type": "code",
      "source": [
        "!pip install faker"
      ],
      "metadata": {
        "colab": {
          "base_uri": "https://localhost:8080/"
        },
        "id": "cclwngBIU6Xp",
        "outputId": "c9bc1838-4092-40f8-d8c8-99e165f538ab"
      },
      "execution_count": 2,
      "outputs": [
        {
          "output_type": "stream",
          "name": "stdout",
          "text": [
            "Collecting faker\n",
            "  Downloading Faker-22.0.0-py3-none-any.whl (1.7 MB)\n",
            "\u001b[2K     \u001b[90m━━━━━━━━━━━━━━━━━━━━━━━━━━━━━━━━━━━━━━━━\u001b[0m \u001b[32m1.7/1.7 MB\u001b[0m \u001b[31m7.4 MB/s\u001b[0m eta \u001b[36m0:00:00\u001b[0m\n",
            "\u001b[?25hRequirement already satisfied: python-dateutil>=2.4 in /usr/local/lib/python3.10/dist-packages (from faker) (2.8.2)\n",
            "Requirement already satisfied: six>=1.5 in /usr/local/lib/python3.10/dist-packages (from python-dateutil>=2.4->faker) (1.16.0)\n",
            "Installing collected packages: faker\n",
            "Successfully installed faker-22.0.0\n"
          ]
        }
      ]
    },
    {
      "cell_type": "code",
      "execution_count": 5,
      "metadata": {
        "colab": {
          "base_uri": "https://localhost:8080/",
          "height": 35
        },
        "id": "G4_2hmUWUEB_",
        "outputId": "c1c363c0-564e-45dd-8a6d-545d9f0fbba7"
      },
      "outputs": [
        {
          "name": "stdout",
          "output_type": "stream",
          "text": [
            "Inserisci il numero di record da generare: 1000\n"
          ]
        },
        {
          "output_type": "display_data",
          "data": {
            "text/plain": [
              "<IPython.core.display.Javascript object>"
            ],
            "application/javascript": [
              "\n",
              "    async function download(id, filename, size) {\n",
              "      if (!google.colab.kernel.accessAllowed) {\n",
              "        return;\n",
              "      }\n",
              "      const div = document.createElement('div');\n",
              "      const label = document.createElement('label');\n",
              "      label.textContent = `Downloading \"${filename}\": `;\n",
              "      div.appendChild(label);\n",
              "      const progress = document.createElement('progress');\n",
              "      progress.max = size;\n",
              "      div.appendChild(progress);\n",
              "      document.body.appendChild(div);\n",
              "\n",
              "      const buffers = [];\n",
              "      let downloaded = 0;\n",
              "\n",
              "      const channel = await google.colab.kernel.comms.open(id);\n",
              "      // Send a message to notify the kernel that we're ready.\n",
              "      channel.send({})\n",
              "\n",
              "      for await (const message of channel.messages) {\n",
              "        // Send a message to notify the kernel that we're ready.\n",
              "        channel.send({})\n",
              "        if (message.buffers) {\n",
              "          for (const buffer of message.buffers) {\n",
              "            buffers.push(buffer);\n",
              "            downloaded += buffer.byteLength;\n",
              "            progress.value = downloaded;\n",
              "          }\n",
              "        }\n",
              "      }\n",
              "      const blob = new Blob(buffers, {type: 'application/binary'});\n",
              "      const a = document.createElement('a');\n",
              "      a.href = window.URL.createObjectURL(blob);\n",
              "      a.download = filename;\n",
              "      div.appendChild(a);\n",
              "      a.click();\n",
              "      div.remove();\n",
              "    }\n",
              "  "
            ]
          },
          "metadata": {}
        },
        {
          "output_type": "display_data",
          "data": {
            "text/plain": [
              "<IPython.core.display.Javascript object>"
            ],
            "application/javascript": [
              "download(\"download_d10f352c-d6fc-4e62-aeb4-48bcaca039d6\", \"random_data_italy.csv\", 105226)"
            ]
          },
          "metadata": {}
        }
      ],
      "source": [
        "import pandas as pd\n",
        "import random\n",
        "from faker import Faker\n",
        "from google.colab import files\n",
        "\n",
        "# Inizializzazione di Faker per l'Italia\n",
        "fake = Faker('it_IT')\n",
        "\n",
        "# Funzione per generare dati casuali\n",
        "def create_random_data(num_records):\n",
        "    data = []\n",
        "    for _ in range(num_records):\n",
        "        # Generazione di un record casuale\n",
        "        record = {\n",
        "            \"Nome\": fake.first_name(),\n",
        "            \"Cognome\": fake.last_name(),\n",
        "            \"Email\": fake.email(),\n",
        "            \"Data di Nascita\": fake.date_of_birth(minimum_age=18, maximum_age=85).strftime(\"%Y-%m-%d\"),\n",
        "            \"Sesso\": random.choice([\"M\", \"F\"]),\n",
        "            \"Indirizzo\": fake.street_address(),\n",
        "            \"Città\": fake.city(),\n",
        "            \"Totale Donato\": round(random.uniform(10, 1000), 2),\n",
        "            \"Email Optin\": random.choice([True, False])\n",
        "        }\n",
        "        data.append(record)\n",
        "    return data\n",
        "\n",
        "# Input dell'utente per il numero di record da generare\n",
        "num_records = int(input(\"Inserisci il numero di record da generare: \"))\n",
        "\n",
        "# Creazione dei dati\n",
        "random_data = create_random_data(num_records)\n",
        "\n",
        "# Creazione di un DataFrame\n",
        "df = pd.DataFrame(random_data)\n",
        "\n",
        "# Salvataggio in un file CSV temporaneo\n",
        "csv_file_name = 'random_data_italy.csv'\n",
        "df.to_csv(csv_file_name, index=False, sep=',')\n",
        "\n",
        "# Download del file CSV\n",
        "files.download(csv_file_name)\n"
      ]
    }
  ]
}